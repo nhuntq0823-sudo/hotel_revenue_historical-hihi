{
 "cells": [
  {
   "cell_type": "code",
   "execution_count": null,
   "id": "d42a0f08",
   "metadata": {},
   "outputs": [
    {
     "name": "stdout",
     "output_type": "stream",
     "text": [
      "Tỷ lệ hủy đặt phòng năm 2018: 37.02%\n",
      "Tỷ lệ hủy đặt phòng năm 2019: 36.53%\n",
      "Tỷ lệ hủy đặt phòng năm 2020: 38.70%\n"
     ]
    }
   ],
   "source": [
    "#lab1 - tỷ lệ hủy đặt phòng\n",
    "import pandas as pd\n",
    "\n",
    "# Đường dẫn đến file Excel\n",
    "excel_file = \"hotel_revenue_historical_full-2.xlsx\"\n",
    "\n",
    "# Đọc tất cả các sheet vào một dictionary\n",
    "all_sheets = pd.read_excel(excel_file, sheet_name=None)\n",
    "\n",
    "# Truy cập từng DataFrame bằng tên của sheet\n",
    "df_2018 = all_sheets['2018']\n",
    "df_2019 = all_sheets['2019']\n",
    "df_2020 = all_sheets['2020']\n",
    "\n",
    "# tính tỷ lệ hủy đặt phòng cho từng năm\n",
    "cancellation_rate_2018 = (df_2018['is_canceled'].sum() / len(df_2018)) * 100\n",
    "cancellation_rate_2019 = (df_2019['is_canceled'].sum() / len(df_2019)) * 100\n",
    "cancellation_rate_2020 = (df_2020['is_canceled'].sum() / len(df_2020)) * 100\n",
    "\n",
    "print(f\"Tỷ lệ hủy đặt phòng năm 2018: {cancellation_rate_2018:.2f}%\")\n",
    "print(f\"Tỷ lệ hủy đặt phòng năm 2019: {cancellation_rate_2019:.2f}%\")\n",
    "print(f\"Tỷ lệ hủy đặt phòng năm 2020: {cancellation_rate_2020:.2f}%\")"
   ]
  },
  {
   "cell_type": "code",
   "execution_count": null,
   "id": "38b12df7",
   "metadata": {},
   "outputs": [
    {
     "name": "stdout",
     "output_type": "stream",
     "text": [
      "ADR trung bình năm 2018:\n",
      "          hotel        adr\n",
      "0    City Hotel  85.856915\n",
      "1  Resort Hotel  89.353417\n",
      "------------------------------\n",
      "ADR trung bình năm 2019:\n",
      "          hotel        adr\n",
      "0    City Hotel  98.820446\n",
      "1  Resort Hotel  87.748687\n",
      "------------------------------\n",
      "ADR trung bình năm 2020:\n",
      "          hotel         adr\n",
      "0    City Hotel  117.501864\n",
      "1  Resort Hotel  108.660217\n",
      "------------------------------\n"
     ]
    }
   ],
   "source": [
    "#lab 2\n",
    "import pandas as pd\n",
    "\n",
    "# Chú thích: Đọc từng sheet riêng lẻ vào các DataFrame tương ứng\n",
    "df_2018 = pd.read_excel(\"hotel_revenue_historical_full-2.xlsx\", sheet_name='2018')\n",
    "df_2019 = pd.read_excel(\"hotel_revenue_historical_full-2.xlsx\", sheet_name='2019')\n",
    "df_2020 = pd.read_excel(\"hotel_revenue_historical_full-2.xlsx\", sheet_name='2020')\n",
    "\n",
    "# Chú thích: Tính ADR trung bình cho từng loại khách sạn trong năm 2018\n",
    "adr_2018 = df_2018.groupby('hotel')['adr'].mean().reset_index()\n",
    "print(\"ADR trung bình năm 2018:\")\n",
    "print(adr_2018)\n",
    "print(\"-\" * 30)\n",
    "\n",
    "# Chú thích: Tính ADR trung bình cho từng loại khách sạn trong năm 2019\n",
    "adr_2019 = df_2019.groupby('hotel')['adr'].mean().reset_index()\n",
    "print(\"ADR trung bình năm 2019:\")\n",
    "print(adr_2019)\n",
    "print(\"-\" * 30)\n",
    "\n",
    "# Chú thích: Tính ADR trung bình cho từng loại khách sạn trong năm 2020\n",
    "adr_2020 = df_2020.groupby('hotel')['adr'].mean().reset_index()\n",
    "print(\"ADR trung bình năm 2020:\")\n",
    "print(adr_2020)\n",
    "print(\"-\" * 30)\n"
   ]
  },
  {
   "cell_type": "code",
   "execution_count": null,
   "id": "56a7c1e0",
   "metadata": {},
   "outputs": [
    {
     "name": "stdout",
     "output_type": "stream",
     "text": [
      "Lead time trung bình cho các booking bị hủy: 146.55 ngày\n",
      "Lead time trung bình cho các booking không bị hủy: 76.89 ngày\n",
      "\n",
      "--- Nhận xét ---\n",
      "Lead time trung bình của các booking bị hủy cao hơn đáng kể so với các booking không bị hủy.\n",
      "lead_time của các booking bị hủy cao hơn điều đó chứng tỏ những người đặt phòng sớm có khả năng hủy cao hơn.\n"
     ]
    }
   ],
   "source": [
    "#lab 3 - lead time\n",
    "import pandas as pd\n",
    "\n",
    "# 1. Đọc và gộp 3 file dữ liệu\n",
    "excel_file = \"hotel_revenue_historical_full-2.xlsx\"\n",
    "df_2018 = pd.read_excel(excel_file, sheet_name='2018')\n",
    "df_2019 = pd.read_excel(excel_file, sheet_name='2019')\n",
    "df_2020 = pd.read_excel(excel_file, sheet_name='2020')\n",
    "\n",
    "df_combined = pd.concat([df_2018, df_2019, df_2020], ignore_index=True)\n",
    "\n",
    "# 2. Tính lead_time trung bình cho các booking bị hủy (is_canceled = 1)\n",
    "canceled_lead_time_avg = df_combined[df_combined['is_canceled'] == 1]['lead_time'].mean()\n",
    "print(f\"Lead time trung bình cho các booking bị hủy: {canceled_lead_time_avg:.2f} ngày\")\n",
    "\n",
    "# 3. Tính lead_time trung bình cho các booking không bị hủy (is_canceled = 0)\n",
    "not_canceled_lead_time_avg = df_combined[df_combined['is_canceled'] == 0]['lead_time'].mean()\n",
    "print(f\"Lead time trung bình cho các booking không bị hủy: {not_canceled_lead_time_avg:.2f} ngày\")\n",
    "\n",
    "# 4. Nhận xét\n",
    "print(\"\\n--- Nhận xét ---\")\n",
    "if canceled_lead_time_avg > not_canceled_lead_time_avg:\n",
    "    print(\"Lead time trung bình của các booking bị hủy cao hơn đáng kể so với các booking không bị hủy.\")\n",
    "    print(\"lead_time của các booking bị hủy cao hơn điều đó chứng tỏ những người đặt phòng sớm có khả năng hủy cao hơn.\")\n",
    "else:\n",
    "    print(\"Lead time trung bình của các booking bị hủy thấp hơn hoặc xấp xỉ so với các booking không bị hủy.\")\n",
    "    print(\"lead_time của các booking không bị hủy thấp hơn điều đó chứng tỏ những người đặt phòng trễ ít hủy hơn.\")"
   ]
  },
  {
   "cell_type": "code",
   "execution_count": null,
   "id": "8dbd0923",
   "metadata": {},
   "outputs": [
    {
     "name": "stdout",
     "output_type": "stream",
     "text": [
      "Doanh thu trung bình theo từng kênh bán hàng:\n",
      "  market_segment     revenue\n",
      "3         Direct  365.404751\n",
      "0       Aviation  295.177586\n",
      "6      Online TA  294.739007\n",
      "5  Offline TA/TO  231.397741\n",
      "4         Groups  207.921811\n",
      "2      Corporate  126.720774\n",
      "7      Undefined   24.000000\n",
      "1  Complementary    0.000000\n"
     ]
    }
   ],
   "source": [
    "#lab 4 - doanh thu theo kênh bán hàng\n",
    "import pandas as pd\n",
    "\n",
    "# Đường dẫn đến file Excel gốc của bạn\n",
    "excel_file = \"hotel_revenue_historical_full-2.xlsx\"\n",
    "\n",
    "# 1. đọc các file cần thiết\n",
    "df_2018 = pd.read_excel(excel_file, sheet_name='2018')\n",
    "df_2019 = pd.read_excel(excel_file, sheet_name='2019')\n",
    "df_2020 = pd.read_excel(excel_file, sheet_name='2020')\n",
    "df_market_segment = pd.read_excel(excel_file, sheet_name='market_segment')\n",
    "\n",
    "\n",
    "# Kết hợp tất cả 3 dataframe thành một dataframe duy nhất\n",
    "combined_df = pd.concat([df_2018, df_2019, df_2020], ignore_index=True)\n",
    "\n",
    "# 2. Tải sheet 'market_segment' và ghép vào dữ liệu chính\n",
    "df_market_segment = pd.read_excel(excel_file, sheet_name='market_segment')\n",
    "\n",
    "# Ghép dữ liệu chính với df_market_segment dựa trên cột 'market_segment'\n",
    "combined_df = pd.merge(combined_df, df_market_segment, on='market_segment', how='left')\n",
    "\n",
    "# 3. Tính toán cột doanh thu\n",
    "# Đầu tiên, tạo cột total_nights = stays_in_weekend_nights + stays_in_week_nights\n",
    "combined_df['total_nights'] = combined_df['stays_in_weekend_nights'] + combined_df['stays_in_week_nights']\n",
    "\n",
    "# Tiếp theo, tính doanh thu cho mỗi booking\n",
    "combined_df['revenue'] = combined_df['adr'] * combined_df['total_nights'] * (1 - combined_df['Discount'])\n",
    "\n",
    "# 4. Tính doanh thu trung bình cho từng kênh bán hàng\n",
    "# Nhóm dữ liệu theo 'market_segment' và tính trung bình của cột 'revenue'\n",
    "average_revenue_by_market = combined_df.groupby('market_segment')['revenue'].mean().reset_index()\n",
    "\n",
    "# Sắp xếp kết quả theo thứ tự doanh thu giảm dần để dễ so sánh\n",
    "average_revenue_by_market = average_revenue_by_market.sort_values(by='revenue', ascending=False)\n",
    "\n",
    "print(\"Doanh thu trung bình theo từng kênh bán hàng:\")\n",
    "print(average_revenue_by_market)"
   ]
  },
  {
   "cell_type": "code",
   "execution_count": null,
   "id": "bcded9a4",
   "metadata": {},
   "outputs": [
    {
     "name": "stdout",
     "output_type": "stream",
     "text": [
      "Chi phí ăn uống trung bình theo từng loại bữa ăn:\n",
      "        meal   Cost\n",
      "0         BB  12.99\n",
      "1         FB  21.99\n",
      "2         HB  17.99\n",
      "3         SC  35.00\n",
      "4  Undefined   0.00\n",
      "--------------------------------------------------\n",
      "Số lượng booking cho từng loại bữa ăn:\n",
      "        meal   count\n",
      "0         BB  109878\n",
      "1         HB   18402\n",
      "2         SC   11067\n",
      "3  Undefined    1372\n",
      "4         FB    1228\n"
     ]
    }
   ],
   "source": [
    "#lab 5 - meal plan\n",
    "import pandas as pd\n",
    "\n",
    "# Đường dẫn đến file Excel gốc \n",
    "excel_file = \"hotel_revenue_historical_full-2.xlsx\"\n",
    "\n",
    "# 1. Tải và kết hợp tất cả các sheet dữ liệu chính\n",
    "df_2018 = pd.read_excel(excel_file, sheet_name='2018')\n",
    "df_2019 = pd.read_excel(excel_file, sheet_name='2019')\n",
    "df_2020 = pd.read_excel(excel_file, sheet_name='2020')\n",
    "\n",
    "combined_df = pd.concat([df_2018, df_2019, df_2020], ignore_index=True)\n",
    "\n",
    "# 2. Tải sheet 'meal_cost' và ghép vào dữ liệu chính\n",
    "df_meal_cost = pd.read_excel(excel_file, sheet_name='meal_cost')\n",
    "\n",
    "# Ghép dữ liệu chính với df_meal_cost dựa trên cột 'meal'\n",
    "combined_df = pd.merge(combined_df, df_meal_cost, on='meal', how='left')\n",
    "\n",
    "# 3. Tính toán chi phí ăn uống trung bình cho từng loại meal\n",
    "# Nhóm dữ liệu theo cột 'meal' và tính trung bình của cột 'Cost'\n",
    "average_meal_cost = combined_df.groupby('meal')['Cost'].mean().reset_index()\n",
    "\n",
    "# 4. Đếm số lần booking của mỗi loại meal để xem loại nào phổ biến nhất\n",
    "# Sử dụng value_counts() để đếm số lần xuất hiện của mỗi giá trị trong cột 'meal'\n",
    "most_popular_meal = combined_df['meal'].value_counts().reset_index()\n",
    "most_popular_meal.columns = ['meal', 'count']\n",
    "\n",
    "print(\"Chi phí ăn uống trung bình theo từng loại bữa ăn:\")\n",
    "print(average_meal_cost)\n",
    "print(\"-\" * 50)\n",
    "\n",
    "print(\"Số lượng booking cho từng loại bữa ăn:\")\n",
    "print(most_popular_meal)"
   ]
  },
  {
   "cell_type": "code",
   "execution_count": null,
   "id": "f628a617",
   "metadata": {},
   "outputs": [
    {
     "name": "stderr",
     "output_type": "stream",
     "text": [
      "C:\\Users\\AD\\AppData\\Local\\Temp\\ipykernel_15128\\2246230511.py:21: FutureWarning: The default of observed=False is deprecated and will be changed to True in a future version of pandas. Pass observed=False to retain current behavior or observed=True to adopt the future default and silence this warning.\n",
      "  booking_by_month_and_year = df_combined.groupby(['arrival_date_year', 'arrival_date_month']).size().reset_index(name='number_of_bookings')\n"
     ]
    },
    {
     "data": {
      "image/png": "[encoded data removed]",
      "text/plain": [
       "<Figure size 1200x600 with 1 Axes>"
      ]
     },
     "metadata": {},
     "output_type": "display_data"
    },
    {
     "name": "stdout",
     "output_type": "stream",
     "text": [
      "\n",
      "--- Nhận xét ---\n",
      "Dựa vào biểu đồ, ta có thể dễ dàng nhận thấy tháng có số lượng booking cao nhất trong mỗi năm.\n",
      "Thông thường, mùa cao điểm du lịch sẽ rơi vào các tháng mùa hè như tháng 7 và tháng 8.\n"
     ]
    }
   ],
   "source": [
    "#lab 6 - phân bổ theo tháng\n",
    "import pandas as pd\n",
    "import matplotlib.pyplot as plt\n",
    "import seaborn as sns\n",
    "\n",
    "# Đường dẫn đến file Excel gốc \n",
    "excel_file = \"hotel_revenue_historical_full-2.xlsx\"\n",
    "\n",
    "# 1. \n",
    "df_2018 = pd.read_excel(excel_file, sheet_name='2018')\n",
    "df_2019 = pd.read_excel(excel_file, sheet_name='2019')\n",
    "df_2020 = pd.read_excel(excel_file, sheet_name='2020')\n",
    "\n",
    "# Gộp tất cả các DataFrame lại thành một\n",
    "df_combined = pd.concat([df_2018, df_2019, df_2020], ignore_index=True)\n",
    "\n",
    "# Sắp xếp lại thứ tự các tháng\n",
    "month_order = ['January', 'February', 'March', 'April', 'May', 'June', 'July', 'August', 'September', 'October', 'November', 'December']\n",
    "df_combined['arrival_date_month'] = pd.Categorical(df_combined['arrival_date_month'], categories=month_order, ordered=True)\n",
    "\n",
    "# Nhóm dữ liệu theo năm và tháng để đếm số lượng booking\n",
    "booking_by_month_and_year = df_combined.groupby(['arrival_date_year', 'arrival_date_month']).size().reset_index(name='number_of_bookings')\n",
    "\n",
    "# Thiết lập biểu đồ\n",
    "plt.figure(figsize=(12, 6)) #hàm từ thư viện Matplotlib dùng để tạo một \"khung\" hoặc \"cửa sổ\" rỗng cho biểu đồ và Tham số này xác định kích thước của khung biểu đồ.\n",
    "#booking_by_month_and_year Tham số này chỉ định DataFrame chứa dữ liệu mà bạn muốn vẽ. \n",
    "#hue='arrival_date_year': Đây là một tham số rất hữu ích. Nó tạo ra nhiều đường trên cùng một biểu đồ, mỗi đường đại diện cho một giá trị khác nhau trong cột arrival_date_year\n",
    "sns.lineplot(data=booking_by_month_and_year, x='arrival_date_month', y='number_of_bookings', hue='arrival_date_year', marker='o')\n",
    "\n",
    "plt.title('Số lượng Booking theo Tháng và Năm')\n",
    "plt.xlabel('Tháng đến')\n",
    "plt.ylabel('Số lượng Booking')\n",
    "plt.grid(True)\n",
    "plt.legend(title='Năm') #hiển thị chú thích\n",
    "plt.show()\n",
    "\n",
    "# Nhận xét\n",
    "print(\"\\n--- Nhận xét ---\")\n",
    "print(\"Dựa vào biểu đồ, ta có thể dễ dàng nhận thấy tháng có số lượng booking cao nhất trong mỗi năm.\")\n",
    "print(\"Thông thường, mùa cao điểm du lịch sẽ rơi vào các tháng mùa hè như tháng 7 và tháng 8.\")"
   ]
  },
  {
   "cell_type": "code",
   "execution_count": null,
   "id": "4e8b6b73",
   "metadata": {},
   "outputs": [
    {
     "name": "stdout",
     "output_type": "stream",
     "text": [
      "Các cột có giá trị thiếu (NaN) và số lượng giá trị thiếu:\n",
      "children         8\n",
      "country        625\n",
      "agent        19555\n",
      "company     133822\n",
      "dtype: int64\n",
      "\n",
      "--- Đề xuất cách xử lý ---\n",
      "1. Cột 'company' và 'agent' có rất nhiều giá trị thiếu. Các giá trị này có thể không quan trọng cho phân tích chung, vì vậy có thể điền chúng bằng giá trị mặc định như 'Unknown' hoặc 0. Hoặc nếu không cần thiết, có thể bỏ qua các cột này khi phân tích.\n",
      "2. Cột 'country' có số lượng giá trị thiếu ít. Có thể điền các giá trị thiếu này bằng 'Undefined' hoặc 'OTH' (Other).\n",
      "3. Các cột khác có số lượng giá trị thiếu rất ít. Có thể xem xét xóa các dòng có giá trị thiếu này nếu số lượng quá nhỏ và không ảnh hưởng đến tổng thể dữ liệu.\n",
      "\n",
      "Số lượng giá trị thiếu (NaN) sau khi xử lý:\n",
      "company    0\n",
      "agent      0\n",
      "dtype: int64\n"
     ]
    }
   ],
   "source": [
    "#lab 7 - kiểm tra giá trị thiếu\n",
    "import pandas as pd\n",
    "\n",
    "excel_file = \"hotel_revenue_historical_full-2.xlsx\"\n",
    "# 1. Đọc các file dữ liệu năm\n",
    "df_2018 = pd.read_excel(excel_file, sheet_name='2018')\n",
    "df_2019 = pd.read_excel(excel_file, sheet_name='2019')\n",
    "df_2020 = pd.read_excel(excel_file, sheet_name='2020')\n",
    "\n",
    "\n",
    "# 2. Gộp tất cả các DataFrame lại thành một\n",
    "df_combined = pd.concat([df_2018, df_2019, df_2020], ignore_index=True)\n",
    "\n",
    "# 3. Đếm số lượng giá trị thiếu (NaN) trong từng cột\n",
    "missing_values = df_combined.isnull().sum()\n",
    "columns_with_nan = missing_values[missing_values > 0]\n",
    "\n",
    "print(\"Các cột có giá trị thiếu (NaN) và số lượng giá trị thiếu:\")\n",
    "print(columns_with_nan)\n",
    "\n",
    "# 4. Đề xuất cách xử lý các giá trị thiếu\n",
    "print(\"\\n--- Đề xuất cách xử lý ---\")\n",
    "print(\"1. Cột 'company' và 'agent' có rất nhiều giá trị thiếu. Các giá trị này có thể không quan trọng cho phân tích chung, vì vậy có thể điền chúng bằng giá trị mặc định như 'Unknown' hoặc 0. Hoặc nếu không cần thiết, có thể bỏ qua các cột này khi phân tích.\")\n",
    "print(\"2. Cột 'country' có số lượng giá trị thiếu ít. Có thể điền các giá trị thiếu này bằng 'Undefined' hoặc 'OTH' (Other).\")\n",
    "print(\"3. Các cột khác có số lượng giá trị thiếu rất ít. Có thể xem xét xóa các dòng có giá trị thiếu này nếu số lượng quá nhỏ và không ảnh hưởng đến tổng thể dữ liệu.\")\n",
    "\n",
    "# 5. Ví dụ xử lý: Điền các giá trị NaN trong cột 'company' và 'agent'\n",
    "df_combined['company'] = df_combined['company'].fillna(0)\n",
    "df_combined['agent'] = df_combined['agent'].fillna(0)\n",
    "# 6. Kiểm tra lại sau khi xử lý\n",
    "print(\"\\nSố lượng giá trị thiếu (NaN) sau khi xử lý:\")\n",
    "print(df_combined[['company', 'agent']].isnull().sum())\n"
   ]
  },
  {
   "cell_type": "code",
   "execution_count": 20,
   "id": "f76601fe",
   "metadata": {},
   "outputs": [
    {
     "name": "stdout",
     "output_type": "stream",
     "text": [
      "Số lượng ngày tháng không hợp lệ (NaT): 0\n"
     ]
    }
   ],
   "source": [
    "#lab 8 - \n",
    "import pandas as pd\n",
    "\n",
    "excel_file = \"hotel_revenue_historical_full-2.xlsx\"\n",
    "\n",
    "# Tải và kết hợp tất cả các sheet dữ liệu chính\n",
    "df_2018 = pd.read_excel(excel_file, sheet_name='2018')\n",
    "df_2019 = pd.read_excel(excel_file, sheet_name='2019')\n",
    "df_2020 = pd.read_excel(excel_file, sheet_name='2020')\n",
    "# 2. Gộp tất cả các DataFrame lại thành một\n",
    "df_combined = pd.concat([df_2018, df_2019, df_2020], ignore_index=True)\n",
    "\n",
    "# 3. Tạo một cột mới 'arrival_date' bằng cách kết hợp các cột ngày, tháng, năm\n",
    "# Chuyển đổi các cột ngày, tháng, năm thành chuỗi để ghép nối\n",
    "df_combined['arrival_date_day_of_month'] = df_combined['arrival_date_day_of_month'].astype(str)\n",
    "df_combined['arrival_date_year'] = df_combined['arrival_date_year'].astype(str)\n",
    "\n",
    "# Ghép các cột lại thành một chuỗi ngày tháng\n",
    "# Ví dụ: 2018-July-27\n",
    "df_combined['arrival_date'] = df_combined['arrival_date_year'] + '-' + df_combined['arrival_date_month'] + '-' + df_combined['arrival_date_day_of_month']\n",
    "\n",
    "# 4. Chuyển đổi cột 'arrival_date' sang định dạng datetime\n",
    "# Sử dụng errors='coerce' để các giá trị không hợp lệ sẽ bị chuyển thành NaT (Not a Time)\n",
    "df_combined['arrival_date'] = pd.to_datetime(df_combined['arrival_date'], errors='coerce')\n",
    "\n",
    "# 5. Kiểm tra các giá trị không hợp lệ (NaT)\n",
    "invalid_dates = df_combined['arrival_date'].isnull().sum()\n",
    "print(\"Số lượng ngày tháng không hợp lệ (NaT):\", invalid_dates)\n",
    "\n",
    "# 6. In ra các dòng có ngày tháng không hợp lệ (nếu có) để kiểm tra\n",
    "if invalid_dates > 0:\n",
    "    print(\"\\nCác dòng có ngày tháng không hợp lệ:\")\n",
    "    print(df_combined[df_combined['arrival_date'].isnull()])"
   ]
  },
  {
   "cell_type": "code",
   "execution_count": null,
   "id": "6866c569",
   "metadata": {},
   "outputs": [
    {
     "name": "stdout",
     "output_type": "stream",
     "text": [
      "Tổng số booking có total_nights = 0 là: 871\n"
     ]
    }
   ],
   "source": [
    "#lab 9\n",
    "import pandas as pd\n",
    "\n",
    "excel_file = \"hotel_revenue_historical_full-2.xlsx\"\n",
    "\n",
    "# Tải và kết hợp tất cả các sheet dữ liệu chính\n",
    "df_2018 = pd.read_excel(excel_file, sheet_name='2018')\n",
    "df_2019 = pd.read_excel(excel_file, sheet_name='2019')\n",
    "df_2020 = pd.read_excel(excel_file, sheet_name='2020')\n",
    "\n",
    "# 2. Gộp tất cả các DataFrame lại thành một\n",
    "df_combined = pd.concat([df_2018, df_2019, df_2020], ignore_index=True)\n",
    "\n",
    "# 3. Tạo cột mới 'total_nights'\n",
    "df_combined['total_nights'] = df_combined['stays_in_weekend_nights'] + df_combined['stays_in_week_nights']\n",
    "\n",
    "# 4. Tính số lượng booking có total_nights = 0\n",
    "zero_nights_bookings = df_combined[df_combined['total_nights'] == 0].shape[0]\n",
    "\n",
    "# 5. In kết quả và nhận xét\n",
    "print(f\"Tổng số booking có total_nights = 0 là: {zero_nights_bookings}\")\n"
   ]
  },
  {
   "cell_type": "code",
   "execution_count": null,
   "id": "96ea849f",
   "metadata": {},
   "outputs": [
    {
     "name": "stdout",
     "output_type": "stream",
     "text": [
      "Tổng số booking có ADR <= 0 là: 2556\n",
      "---\n",
      "Xem xét 5 dòng đầu tiên có ADR không hợp lệ:\n",
      "            hotel  is_canceled market_segment  adr\n",
      "82   Resort Hotel            1         Groups  0.0\n",
      "565  Resort Hotel            1         Direct  0.0\n",
      "566  Resort Hotel            1         Direct  0.0\n",
      "577  Resort Hotel            1  Offline TA/TO  0.0\n",
      "600  Resort Hotel            1         Direct  0.0\n",
      "---\n",
      "\n",
      "Sau khi xử lý (xóa ADR âm và thay thế ADR=0), số lượng booking có ADR <= 0 còn lại là: 0\n",
      "Giá trị trung bình dùng để thay thế (Mean ADR) là: 101.24\n",
      "Tổng số booking sau khi xử lý: 141946\n"
     ]
    }
   ],
   "source": [
    "#lab10\n",
    "import pandas as pd\n",
    "\n",
    "excel_file = \"hotel_revenue_historical_full-2.xlsx\"\n",
    "\n",
    "# Tải và kết hợp tất cả các sheet dữ liệu chính\n",
    "df_2018 = pd.read_excel(excel_file, sheet_name='2018')\n",
    "df_2019 = pd.read_excel(excel_file, sheet_name='2019')\n",
    "df_2020 = pd.read_excel(excel_file, sheet_name='2020')\n",
    "# 2. Gộp tất cả các DataFrame lại thành một\n",
    "df_combined = pd.concat([df_2018, df_2019, df_2020], ignore_index=True)\n",
    "\n",
    "# 3. Kiểm tra giá trị không hợp lệ trong cột 'adr'\n",
    "# Xác định các dòng có adr âm hoặc bằng 0\n",
    "invalid_adr_bookings = df_combined[df_combined['adr'] <= 0]\n",
    "\n",
    "# 4. Tính số lượng booking có adr không hợp lệ\n",
    "negative_or_zero_adr_count = invalid_adr_bookings.shape[0]\n",
    "\n",
    "# 5. In kết quả và nhận xét ban đầu\n",
    "print(f\"Tổng số booking có ADR <= 0 là: {negative_or_zero_adr_count}\")\n",
    "print(\"---\")\n",
    "print(\"Xem xét 5 dòng đầu tiên có ADR không hợp lệ:\")\n",
    "print(invalid_adr_bookings[['hotel', 'is_canceled', 'market_segment', 'adr']].head())\n",
    "print(\"---\")\n",
    "\n",
    "# 6. Xử lý dữ liệu không hợp lệ\n",
    "# Cách xử lý: \n",
    "#   - ADR < 0: Chắc chắn là lỗi nhập liệu, nên xóa.\n",
    "#   - ADR = 0: Có thể là lỗi hoặc là phòng Complimentary (Market Segment = Complementary), ta sẽ thay thế bằng giá trị trung bình để giữ lại booking.\n",
    "\n",
    "# 6.1. Xóa các dòng có ADR < 0\n",
    "# Giá trị ADR thấp nhất là: -6.38 (Lấy ví dụ từ dữ liệu thực tế)\n",
    "df_cleaned = df_combined[df_combined['adr'] > 0].copy()\n",
    "\n",
    "# 6.2. Tính giá trị trung bình của ADR từ tập dữ liệu đã làm sạch\n",
    "mean_adr = df_cleaned['adr'].mean()\n",
    "\n",
    "# 6.3. Thay thế các giá trị ADR = 0 (từ tập dữ liệu gốc, nếu có) bằng giá trị trung bình\n",
    "# Lưu ý: Cần xử lý cả các giá trị 0 nếu không bị xóa ở bước 6.1. \n",
    "# Tuy nhiên, nếu lọc df_combined['adr'] > 0, thì các giá trị 0 đã bị loại bỏ.\n",
    "# Ta sẽ thay đổi chiến lược: Xử lý các giá trị không hợp lệ (âm hoặc 0)\n",
    "\n",
    "# Lọc các dòng có ADR âm\n",
    "df_cleaned = df_combined[df_combined['adr'] >= 0].copy()\n",
    "\n",
    "# Tính giá trị trung bình (Mean) chỉ trên các ADR > 0 (tránh bị ảnh hưởng bởi giá trị 0)\n",
    "mean_adr_for_imputation = df_cleaned[df_cleaned['adr'] > 0]['adr'].mean()\n",
    "\n",
    "# Thay thế các giá trị ADR = 0 bằng giá trị trung bình vừa tính\n",
    "df_cleaned.loc[df_cleaned['adr'] == 0, 'adr'] = mean_adr_for_imputation\n",
    "\n",
    "# 7. Kiểm tra lại sau khi xử lý\n",
    "final_invalid_count = len(df_cleaned[df_cleaned['adr'] <= 0])\n",
    "print(f\"\\nSau khi xử lý (xóa ADR âm và thay thế ADR=0), số lượng booking có ADR <= 0 còn lại là: {final_invalid_count}\")\n",
    "print(f\"Giá trị trung bình dùng để thay thế (Mean ADR) là: {mean_adr_for_imputation:.2f}\")\n",
    "print(f\"Tổng số booking sau khi xử lý: {len(df_cleaned)}\")"
   ]
  },
  {
   "cell_type": "code",
   "execution_count": 31,
   "id": "274cf4b5",
   "metadata": {},
   "outputs": [
    {
     "name": "stdout",
     "output_type": "stream",
     "text": [
      "Giá trị trong meal và market_segment ban đầu\n",
      "Các giá trị trong meal: ['BB' 'HB' 'FB' 'Undefined' 'SC']\n",
      "Các giá trị trong market_segment: ['Online TA' 'Offline TA/TO' 'Direct' 'Corporate' 'Groups' 'Complementary'\n",
      " 'Undefined' 'Aviation']\n",
      "\n",
      "Giá trị sau khi replace:\n",
      "Các giá trị trong meal: ['BB' 'HB' 'FB' 'Other' 'SC']\n",
      "Các giá trị trong market segment: ['Online TA' 'Offline TA/TO' 'Direct' 'Corporate' 'Groups' 'Complementary'\n",
      " 'Other' 'Aviation']\n"
     ]
    }
   ],
   "source": [
    "#lab 11\n",
    "import pandas as pd\n",
    "\n",
    "excel_file = \"hotel_revenue_historical_full-2.xlsx\"\n",
    "\n",
    "# 1. Tải và kết hợp tất cả các sheet dữ liệu chính\n",
    "df_2018 = pd.read_excel(excel_file, sheet_name='2018')\n",
    "df_2019 = pd.read_excel(excel_file, sheet_name='2019')\n",
    "df_2020 = pd.read_excel(excel_file, sheet_name='2020')\n",
    "\n",
    "# 2. Gộp tất cả các DataFrame lại thành một\n",
    "df_combined = pd.concat([df_2018, df_2019, df_2020], ignore_index=True)\n",
    "\n",
    "# 3. Kiểm tra các giá trị 'Undefined' ban đầu\n",
    "print(\"Giá trị trong meal và market_segment ban đầu\")\n",
    "print(\"Các giá trị trong meal:\", df_combined[\"meal\"].unique())\n",
    "print(\"Các giá trị trong market_segment:\", df_combined[\"market_segment\"].unique())\n",
    "\n",
    "# 4. Chuẩn hóa dữ liệu: Thay thế 'Undefined' bằng 'Other'\n",
    "df_combined['meal'] = df_combined['meal'].replace('Undefined', 'Other')\n",
    "df_combined['market_segment'] = df_combined['market_segment'].replace('Undefined', 'Other')\n",
    "\n",
    "# Các giá trị còn lại trong cột sau khi replace\n",
    "print(\"\\nGiá trị sau khi replace:\")\n",
    "print(f\"Các giá trị trong meal: {df_combined[\"meal\"].unique()}\")\n",
    "print(f\"Các giá trị trong market segment: {df_combined[\"market_segment\"].unique()}\")"
   ]
  }
 ],
 "metadata": {
  "kernelspec": {
   "display_name": "Python 3",
   "language": "python",
   "name": "python3"
  },
  "language_info": {
   "codemirror_mode": {
    "name": "ipython",
    "version": 3
   },
   "file_extension": ".py",
   "mimetype": "text/x-python",
   "name": "python",
   "nbconvert_exporter": "python",
   "pygments_lexer": "ipython3",
   "version": "3.13.0"
  }
 },
 "nbformat": 4,
 "nbformat_minor": 5
}
